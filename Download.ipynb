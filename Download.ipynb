{
 "cells": [
  {
   "cell_type": "code",
   "execution_count": 2,
   "id": "composite-colorado",
   "metadata": {},
   "outputs": [
    {
     "name": "stdout",
     "output_type": "stream",
     "text": [
      "Full Formula (Cs1 Sm1 S2)\n",
      "Reduced Formula: CsSmS2\n",
      "abc   :   8.439922   8.439922   8.439922\n",
      "angles:  28.812190  28.812190  28.812192\n",
      "Sites (4)\n",
      "  #  SP           a         b         c    magmom\n",
      "---  ----  --------  --------  --------  --------\n",
      "  0  Cs    0         0         0               -0\n",
      "  1  Sm    0.5       0.5       0.5              0\n",
      "  2  S     0.771787  0.771787  0.771787        -0\n",
      "  3  S     0.228213  0.228213  0.228213        -0\n"
     ]
    }
   ],
   "source": [
    "from pymatgen.ext.matproj import MPRester\n",
    "from pymatgen.io.cif import CifWriter\n",
    "with MPRester(\"eKJMKclFzVrDeK1fBnBn\") as m:\n",
    "\n",
    "    # Structure for material id\n",
    "    structure = m.get_structure_by_material_id(\"mp-9082\")\n",
    "\n",
    "    print(structure)\n",
    "    file = CifWriter(structure)\n",
    "    file.write_file('Structure-CsSmS2')"
   ]
  },
  {
   "cell_type": "code",
   "execution_count": null,
   "id": "smoking-cowboy",
   "metadata": {},
   "outputs": [],
   "source": []
  }
 ],
 "metadata": {
  "kernelspec": {
   "display_name": "Python 3",
   "language": "python",
   "name": "python3"
  },
  "language_info": {
   "codemirror_mode": {
    "name": "ipython",
    "version": 3
   },
   "file_extension": ".py",
   "mimetype": "text/x-python",
   "name": "python",
   "nbconvert_exporter": "python",
   "pygments_lexer": "ipython3",
   "version": "3.6.8"
  }
 },
 "nbformat": 4,
 "nbformat_minor": 5
}
