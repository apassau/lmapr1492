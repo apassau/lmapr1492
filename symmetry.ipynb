{
 "cells": [
  {
   "cell_type": "code",
   "execution_count": 3,
   "metadata": {},
   "outputs": [
    {
     "name": "stdout",
     "output_type": "stream",
     "text": [
      "Full Formula (Cu1 As1 Se2)\n",
      "Reduced Formula: CuAsSe2\n",
      "abc   :   6.382307   6.382307   6.382307\n",
      "angles:  40.243542  40.243542  40.243542\n",
      "Sites (4)\n",
      "  #  SP           a         b         c    magmom\n",
      "---  ----  --------  --------  --------  --------\n",
      "  0  Cu    0.492377  0.492377  0.492377         0\n",
      "  1  As    0.995063  0.995063  0.995063         0\n",
      "  2  Se    0.131883  0.131883  0.131883         0\n",
      "  3  Se    0.631677  0.631677  0.631677         0\n",
      "nouvelles coordonnées de l atome: [ 0.          0.47       -0.33333333]\n",
      "nouvelles coordonnées de l atome: [-0.41       -0.14        0.21333333]\n",
      "nouvelles coordonnées de l atome: [-0.47 -0.47 -0.67]\n"
     ]
    }
   ],
   "source": [
    "from pymatgen.symmetry.analyzer import SpacegroupAnalyzer, PointGroupAnalyzer\n",
    "from pymatgen.util.coord import pbc_shortest_vectors\n",
    "from pymatgen.util.num import abs_cap\n",
    "from pymatgen.util.typing import Vector3Like\n",
    "from pymatgen.ext.matproj import MPRester\n",
    "from pymatgen.io.cif import CifParser\n",
    "from pymatgen.core.lattice import Lattice\n",
    "from pymatgen.core.sites import Site\n",
    "from pymatgen.core.structure import IMolecule\n",
    "from IPython.display import Image\n",
    "from pymatgen.core.operations import SymmOp\n",
    "\n",
    "import pymatgen.symmetry.analyzer as span\n",
    "with MPRester(\"eKJMKclFzVrDeK1fBnBn\") as m:\n",
    "\n",
    "    # Structure du matériau\n",
    "    structure = m.get_structure_by_material_id(\"mp-29643\")    \n",
    "    print(structure)\n",
    "    \n",
    "    #opération de symétrie 1: C2 (y,x,-z-1/3)\n",
    "    axe_sym_1=SymmOp.from_xyz_string('y,x,-z-1/3')\n",
    "    #Application de l'opération de symétrie sur un Atome de Si situé en [0.47,0.00,0.00]\n",
    "    op_sym_1=axe_sym_1.operate([0.47,0.00,0.00])\n",
    "    im1=Image(filename=\"sym_1.jpg\")\n",
    "    print('nouvelles coordonnées de l atome:',op_sym_1)\n",
    "    \n",
    "    #opération de symétrie 2: C2 (-x,-x+y,-z+1/3)\n",
    "    axe_sym_2=SymmOp.from_xyz_string('-x,-x+y,-z+1/3')\n",
    "    #Application de l'opération de symétrie sur un Atome de O situé en [0.41,0.27,0.12]\n",
    "    op_sym_2=axe_sym_2.operate([0.41,0.27,0.12])\n",
    "    im2=Image(filename='sym2.jpg')\n",
    "    print('nouvelles coordonnées de l atome:',op_sym_2)\n",
    "    \n",
    "    #opération de symétrie 1: C2 (x-y,-y,-z)\n",
    "    axe_sym_3=SymmOp.from_xyz_string('x-y,-y,-z')\n",
    "    #Application de l'opération de symétrie sur un Atome de Si situé en [0.00,0.47,0.67]\n",
    "    op_sym_3=axe_sym_3.operate([0.00,0.47,0.67])\n",
    "    im3=Image(filename='sym_3.jpg')\n",
    "    print('nouvelles coordonnées de l atome:',op_sym_3)\n",
    "    \n",
    "\n"
   ]
  },
  {
   "cell_type": "code",
   "execution_count": null,
   "metadata": {},
   "outputs": [],
   "source": []
  },
  {
   "cell_type": "code",
   "execution_count": null,
   "metadata": {},
   "outputs": [],
   "source": []
  }
 ],
 "metadata": {
  "kernelspec": {
   "display_name": "Python 3",
   "language": "python",
   "name": "python3"
  },
  "language_info": {
   "codemirror_mode": {
    "name": "ipython",
    "version": 3
   },
   "file_extension": ".py",
   "mimetype": "text/x-python",
   "name": "python",
   "nbconvert_exporter": "python",
   "pygments_lexer": "ipython3",
   "version": "3.6.8"
  }
 },
 "nbformat": 4,
 "nbformat_minor": 2
}
