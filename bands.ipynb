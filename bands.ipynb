{
 "cells": [
  {
   "cell_type": "code",
   "execution_count": 19,
   "metadata": {},
   "outputs": [
    {
     "name": "stdout",
     "output_type": "stream",
     "text": [
      "Full Formula (Cu1 As1 Se2)\n",
      "Reduced Formula: CuAsSe2\n",
      "abc   :   6.382307   6.382307   6.382307\n",
      "angles:  40.243542  40.243542  40.243542\n",
      "Sites (4)\n",
      "  #  SP           a         b         c    magmom\n",
      "---  ----  --------  --------  --------  --------\n",
      "  0  Cu    0.492377  0.492377  0.492377         0\n",
      "  1  As    0.995063  0.995063  0.995063         0\n",
      "  2  Se    0.131883  0.131883  0.131883         0\n",
      "  3  Se    0.631677  0.631677  0.631677         0\n",
      "{'direct': False, 'energy': 0.3247, 'transition': '(0.500,0.165,-0.165)-(0.701,0.500,0.299)'}\n",
      "Valeur de la bande interdite: 0.3247 eV\n",
      "{'band_index': defaultdict(<class 'list'>, {<Spin.up: 1>: [17]}), 'kpoint_index': [37], 'kpoint': <pymatgen.electronic_structure.bandstructure.Kpoint object at 0x7fa564e91208>, 'energy': 3.8009, 'projections': {}}\n"
     ]
    },
    {
     "ename": "AttributeError",
     "evalue": "type object 'BandStructureSymmLine' has no attribute 'get_reconstructed_band_structure'",
     "output_type": "error",
     "traceback": [
      "\u001b[0;31m---------------------------------------------------------------------------\u001b[0m",
      "\u001b[0;31mAttributeError\u001b[0m                            Traceback (most recent call last)",
      "\u001b[0;32m<ipython-input-19-116d9c999005>\u001b[0m in \u001b[0;36m<module>\u001b[0;34m\u001b[0m\n\u001b[1;32m     38\u001b[0m     \u001b[0mconduction_band\u001b[0m\u001b[0;34m=\u001b[0m\u001b[0mbandstructure\u001b[0m\u001b[0;34m.\u001b[0m\u001b[0mget_cbm\u001b[0m\u001b[0;34m(\u001b[0m\u001b[0;34m)\u001b[0m\u001b[0;34m\u001b[0m\u001b[0;34m\u001b[0m\u001b[0m\n\u001b[1;32m     39\u001b[0m     \u001b[0mprint\u001b[0m\u001b[0;34m(\u001b[0m\u001b[0mconduction_band\u001b[0m\u001b[0;34m)\u001b[0m\u001b[0;34m\u001b[0m\u001b[0;34m\u001b[0m\u001b[0m\n\u001b[0;32m---> 40\u001b[0;31m     \u001b[0mbs_CBM\u001b[0m\u001b[0;34m=\u001b[0m\u001b[0mBandStructureSymmLine\u001b[0m\u001b[0;34m.\u001b[0m\u001b[0mget_reconstructed_band_structure\u001b[0m\u001b[0;34m(\u001b[0m\u001b[0mconduction_band\u001b[0m\u001b[0;34m,\u001b[0m \u001b[0mefermi\u001b[0m\u001b[0;34m=\u001b[0m\u001b[0;32mNone\u001b[0m\u001b[0;34m)\u001b[0m\u001b[0;34m\u001b[0m\u001b[0;34m\u001b[0m\u001b[0m\n\u001b[0m\u001b[1;32m     41\u001b[0m \u001b[0;34m\u001b[0m\u001b[0m\n\u001b[1;32m     42\u001b[0m     \u001b[0;31m#Calcul de la masse effective\u001b[0m\u001b[0;34m\u001b[0m\u001b[0;34m\u001b[0m\u001b[0;34m\u001b[0m\u001b[0m\n",
      "\u001b[0;31mAttributeError\u001b[0m: type object 'BandStructureSymmLine' has no attribute 'get_reconstructed_band_structure'"
     ]
    }
   ],
   "source": [
    "from pymatgen.symmetry.analyzer import SpacegroupAnalyzer, PointGroupAnalyzer\n",
    "from pymatgen.util.coord import pbc_shortest_vectors\n",
    "from pymatgen.util.num import abs_cap\n",
    "from pymatgen.util.typing import Vector3Like\n",
    "from pymatgen.ext.matproj import MPRester\n",
    "from pymatgen.io.cif import CifParser\n",
    "from pymatgen.core.lattice import Lattice\n",
    "from pymatgen.core.sites import Site\n",
    "from pymatgen.core.structure import IMolecule\n",
    "from IPython.display import Image\n",
    "from pymatgen.core.operations import SymmOp\n",
    "from pymatgen.analysis.diffraction.core import AbstractDiffractionPatternCalculator, DiffractionPattern\n",
    "from pymatgen.analysis.diffraction.xrd import XRDCalculator\n",
    "from pymatgen.core.spectrum import Spectrum\n",
    "from pymatgen.electronic_structure.bandstructure import BandStructure, BandStructureSymmLine\n",
    "from pymatgen.symmetry.bandstructure import HighSymmKpath\n",
    "\n",
    "import math\n",
    "import pymatgen.analysis.diffraction.core as dpanc\n",
    "import pymatgen.analysis.diffraction.xrd as dpan\n",
    "import pymatgen.symmetry.analyzer as span\n",
    "with MPRester(\"eKJMKclFzVrDeK1fBnBn\") as m:\n",
    "\n",
    "    # Structure du matériau grâce à son code depuis le site MaterialProject\n",
    "    structure = m.get_structure_by_material_id(\"mp-29643\")\n",
    "    #affiche de la structure pour vérifier ce que l'on va enregistrer \n",
    "    print(structure)\n",
    "    # Structure de bande du matériaux grâce à son code depuis le site MaterialProject \n",
    "    bandstructure = m.get_bandstructure_by_material_id(\"mp-29643\")\n",
    "    #Bande interdite\n",
    "    gap=bandstructure.get_band_gap()\n",
    "    print(gap)\n",
    "    print('Valeur de la bande interdite:', gap['energy'], 'eV')\n",
    "    \n",
    "    #Direction de la dispersion\n",
    "    \n",
    "    #obtenir la Conduction Band Minimum\n",
    "    conduction_band=bandstructure.get_cbm()\n",
    "    print(conduction_band)\n",
    "    #bs_CBM=BandStructureSymmLine.get_reconstructed_band_structure(conduction_band, efermi=None)\n",
    "    \n",
    "    #la partie sur la direction de dispersion n'a pas été résolu\n",
    "    \n",
    "    #Calcul de la masse effective\n",
    "    \n",
    "    #lat=Lattice.rhombohedral(6.382307,40.243542)\n",
    "    #obtenir la Valnce Band Maximum\n",
    "    valence_band= bandstructure.get_vbm()\n",
    "    print(valence_band)\n",
    "    #Coordonnées fractionnaires de la bande de valence\n",
    "    frac_k_vb=valence_band['kpoint'].frac_coords\n",
    "    pi=math.pi\n",
    "    #valeur de mes vecteurs du réseau direct en unité international m\n",
    "    a=6.382307*(10*-10)\n",
    "    #calcul de k²\n",
    "    k_carré=(frac_k_vb[0]**2)*(((2*pi)/a)**2)+(frac_k_vb[1]**2)*(((2*pi)/a)**2)+(frac_k_vb[2]**2)*(((2*pi)/a)**2)\n",
    "    #converstion des eV en joules pour le calcul de masse en unité international J\n",
    "    energy_vb= valence_band['energy']*(1.602*(10**-19))\n",
    "    #valeur constante de planck sur 2 pi\n",
    "    h=1.054*(10**-34)\n",
    "    #calcul de la masse effective\n",
    "    masse_effective=((h**2)*k_carré)/(2*energy_vb)\n",
    "    print('masse effective à la base de la dernière bande de valence =',masse_effective,'kg')\n",
    "    #les calcules sont-ils corrects ? la valeur obtenue semble quand même fort faible\n",
    "    \n",
    "    "
   ]
  },
  {
   "cell_type": "code",
   "execution_count": null,
   "metadata": {},
   "outputs": [],
   "source": []
  },
  {
   "cell_type": "code",
   "execution_count": null,
   "metadata": {},
   "outputs": [],
   "source": []
  }
 ],
 "metadata": {
  "kernelspec": {
   "display_name": "Python 3",
   "language": "python",
   "name": "python3"
  },
  "language_info": {
   "codemirror_mode": {
    "name": "ipython",
    "version": 3
   },
   "file_extension": ".py",
   "mimetype": "text/x-python",
   "name": "python",
   "nbconvert_exporter": "python",
   "pygments_lexer": "ipython3",
   "version": "3.6.8"
  }
 },
 "nbformat": 4,
 "nbformat_minor": 2
}
