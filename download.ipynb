{
 "cells": [
  {
   "cell_type": "code",
   "execution_count": 9,
   "metadata": {},
   "outputs": [
    {
     "name": "stdout",
     "output_type": "stream",
     "text": [
      "Full Formula (Cu1 As1 Se2)\n",
      "Reduced Formula: CuAsSe2\n",
      "abc   :   6.382307   6.382307   6.382307\n",
      "angles:  40.243542  40.243542  40.243542\n",
      "Sites (4)\n",
      "  #  SP           a         b         c    magmom\n",
      "---  ----  --------  --------  --------  --------\n",
      "  0  Cu    0.492377  0.492377  0.492377         0\n",
      "  1  As    0.995063  0.995063  0.995063         0\n",
      "  2  Se    0.131883  0.131883  0.131883         0\n",
      "  3  Se    0.631677  0.631677  0.631677         0\n"
     ]
    }
   ],
   "source": [
    "from pymatgen.ext.matproj import MPRester\n",
    "from pymatgen.io.cif import CifWriter\n",
    "with MPRester(\"eKJMKclFzVrDeK1fBnBn\") as m:\n",
    "\n",
    "    # Structure for material id\n",
    "    structure = m.get_structure_by_material_id(\"mp-29643\")\n",
    "\n",
    "    print(structure)\n",
    "    file = CifWriter(structure)\n",
    "    file.write_file('Structure-CuAsSe2')"
   ]
  },
  {
   "cell_type": "code",
   "execution_count": null,
   "metadata": {},
   "outputs": [],
   "source": []
  }
 ],
 "metadata": {
  "kernelspec": {
   "display_name": "Python 3",
   "language": "python",
   "name": "python3"
  },
  "language_info": {
   "codemirror_mode": {
    "name": "ipython",
    "version": 3
   },
   "file_extension": ".py",
   "mimetype": "text/x-python",
   "name": "python",
   "nbconvert_exporter": "python",
   "pygments_lexer": "ipython3",
   "version": "3.6.8"
  }
 },
 "nbformat": 4,
 "nbformat_minor": 2
}
