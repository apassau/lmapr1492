{
 "cells": [
  {
   "cell_type": "code",
   "execution_count": 47,
   "metadata": {},
   "outputs": [
    {
     "name": "stdout",
     "output_type": "stream",
     "text": [
      "Full Formula (Cu1 As1 Se2)\n",
      "Reduced Formula: CuAsSe2\n",
      "abc   :   6.382307   6.382307   6.382307\n",
      "angles:  40.243542  40.243542  40.243542\n",
      "Sites (4)\n",
      "  #  SP           a         b         c    magmom\n",
      "---  ----  --------  --------  --------  --------\n",
      "  0  Cu    0.492377  0.492377  0.492377         0\n",
      "  1  As    0.995063  0.995063  0.995063         0\n",
      "  2  Se    0.131883  0.131883  0.131883         0\n",
      "  3  Se    0.631677  0.631677  0.631677         0\n",
      "coordonnées des vecteurs du réseau direct: 4.123213 0.000000 4.871649\n",
      "1.784870 3.716870 4.871649\n",
      "0.000000 0.000000 6.382307\n",
      "vecteurs du réseau direct (a,b et c): (6.382306999999999, 6.382306999999999, 6.382307)\n",
      "coordonnées des vecteurs du réseau réciproque: 1.523857 -0.731768 0.000000\n",
      "0.000000 1.690451 0.000000\n",
      "-1.163168 -0.731768 0.984469\n",
      "vecteurs du réseau réciproque (a*,b* et c*): (1.690450675545809, 1.690450675545809, 1.6904506755458089)\n",
      "Type de maille du matériau: rhombohedral\n",
      "Type de système cristallin: trigonal\n",
      "Groupe ponctuel: R3m\n"
     ]
    }
   ],
   "source": [
    "from pymatgen.symmetry.analyzer import SpacegroupAnalyzer\n",
    "from pymatgen.util.coord import pbc_shortest_vectors\n",
    "from pymatgen.util.num import abs_cap\n",
    "from pymatgen.util.typing import Vector3Like\n",
    "from pymatgen.ext.matproj import MPRester\n",
    "from pymatgen.io.cif import CifWriter\n",
    "from pymatgen.core.lattice import Lattice\n",
    "from pymatgen.core.sites import Site\n",
    "\n",
    "import pymatgen.symmetry.analyzer as span\n",
    "with MPRester(\"eKJMKclFzVrDeK1fBnBn\") as m:\n",
    "\n",
    "    # Structure for material id\n",
    "    structure = m.get_structure_by_material_id(\"mp-29643\")    \n",
    "    print(structure)\n",
    "    # Vecteurs de base du réseau direct\n",
    "    lat=Lattice.rhombohedral(6.382307,40.243542)\n",
    "    print(\"coordonnées des vecteurs du réseau direct:\",lat)\n",
    "    # a,b et c du réseau direct\n",
    "    dir_vect=lat.lengths\n",
    "    print(\"vecteurs du réseau direct (a,b et c):\",dir_vect)\n",
    "    # Vecteurs de base du réseau réciproque\n",
    "    rec_lat= lat.reciprocal_lattice\n",
    "    print(\"coordonnées des vecteurs du réseau réciproque:\",rec_lat)\n",
    "    # a*, b* et c* du réseau réciproque\n",
    "    rec_vect= rec_lat.lengths\n",
    "    print(\"vecteurs du réseau réciproque (a*,b* et c*):\",rec_vect)\n",
    "    #type de maille\n",
    "    stru=span.SpacegroupAnalyzer(structure)\n",
    "    print(\"Type de maille du matériau:\",stru.get_lattice_type())\n",
    "    #système cristallin \n",
    "    print(\"Type de système cristallin:\",stru.get_crystal_system())\n",
    "    #groupe ponctuel\n",
    "    print(\"Groupe ponctuel:\",stru.get_space_group_symbol())\n",
    "    \n",
    "    #remarque: on remarque juste qu'il y a un soucis car la relation aXa*= 2pi n'est pas respecté\n",
    "    \n",
    "    "
   ]
  },
  {
   "cell_type": "code",
   "execution_count": null,
   "metadata": {},
   "outputs": [],
   "source": []
  },
  {
   "cell_type": "code",
   "execution_count": null,
   "metadata": {},
   "outputs": [],
   "source": []
  }
 ],
 "metadata": {
  "kernelspec": {
   "display_name": "Python 3",
   "language": "python",
   "name": "python3"
  },
  "language_info": {
   "codemirror_mode": {
    "name": "ipython",
    "version": 3
   },
   "file_extension": ".py",
   "mimetype": "text/x-python",
   "name": "python",
   "nbconvert_exporter": "python",
   "pygments_lexer": "ipython3",
   "version": "3.6.8"
  }
 },
 "nbformat": 4,
 "nbformat_minor": 2
}
