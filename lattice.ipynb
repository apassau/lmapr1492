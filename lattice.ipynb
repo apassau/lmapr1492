{
 "cells": [
  {
   "cell_type": "code",
   "execution_count": 1,
   "metadata": {},
   "outputs": [
    {
     "name": "stdout",
     "output_type": "stream",
     "text": [
      "Full Formula (Cs1 Sm1 S2)\n",
      "Reduced Formula: CsSmS2\n",
      "abc   :   8.439922   8.439922   8.439922\n",
      "angles:  28.812190  28.812190  28.812192\n",
      "Sites (4)\n",
      "  #  SP           a         b         c    magmom\n",
      "---  ----  --------  --------  --------  --------\n",
      "  0  Cs    0         0         0               -0\n",
      "  1  Sm    0.5       0.5       0.5              0\n",
      "  2  S     0.771787  0.771787  0.771787        -0\n",
      "  3  S     0.228213  0.228213  0.228213        -0\n",
      "coordonnées des vecteurs du réseau direct: 4.067550 0.000000 7.395177\n",
      "1.899584 3.596741 7.395177\n",
      "0.000000 0.000000 8.440000\n",
      "normes des vecteurs du réseau direct (a,b et c): (8.44, 8.44, 8.44)\n",
      "coordonnées des vecteurs du réseau réciproque: 1.544710 -0.815824 0.000000\n",
      "0.000000 1.746911 0.000000\n",
      "-1.353484 -0.815824 0.744453\n",
      "normes des vecteurs du réseau réciproque (a*,b* et c*): (1.746910906152327, 1.746910906152327, 1.746910906152327)\n",
      "Type de maille du matériau: rhombohedral\n",
      "Type de système cristallin: trigonal\n",
      "Groupe ponctuel: R-3m\n"
     ]
    }
   ],
   "source": [
    "from pymatgen.symmetry.analyzer import SpacegroupAnalyzer\n",
    "from pymatgen.util.coord import pbc_shortest_vectors\n",
    "from pymatgen.util.num import abs_cap\n",
    "from pymatgen.util.typing import Vector3Like\n",
    "from pymatgen.ext.matproj import MPRester\n",
    "from pymatgen.io.cif import CifWriter\n",
    "from pymatgen.core.lattice import Lattice\n",
    "from pymatgen.core.sites import Site\n",
    "\n",
    "import pymatgen.symmetry.analyzer as span\n",
    "with MPRester(\"eKJMKclFzVrDeK1fBnBn\") as m:\n",
    "\n",
    "    # Structure du matériau\n",
    "    structure = m.get_structure_by_material_id(\"mp-9082\")    \n",
    "    print(structure)\n",
    "    #Création du lattice du structure trigonal pour affiché les vecteurs du réseau de base et du réseau réciproque\n",
    "    lat=Lattice.rhombohedral(8.440,28.812)\n",
    "    # Coordonnées des vecteurs de base du réseau direct (a,b et c)\n",
    "    print(\"coordonnées des vecteurs du réseau direct:\",lat)\n",
    "    # Normes des vecteurs de base du réseau direct (a,b et c)\n",
    "    dir_vect=lat.lengths\n",
    "    print(\"normes des vecteurs du réseau direct (a,b et c):\",dir_vect)\n",
    "    # Coordonnées des vecteurs de base du réseau réciproque (a*,b* et c*)\n",
    "    rec_lat= lat.reciprocal_lattice\n",
    "    print(\"coordonnées des vecteurs du réseau réciproque:\",rec_lat)\n",
    "    # Normes des vecteurs de base du réseau réciproque (a*,b* et c*)\n",
    "    rec_vect= rec_lat.lengths\n",
    "    print(\"normes des vecteurs du réseau réciproque (a*,b* et c*):\",rec_vect)\n",
    "    # Variable pour afficher le type de maille, le système cristallin et le groupe ponctuel\n",
    "    stru=span.SpacegroupAnalyzer(structure)\n",
    "    # Type de maille du matériau\n",
    "    print(\"Type de maille du matériau:\",stru.get_lattice_type())\n",
    "    # Type de système cristallin du matériau\n",
    "    print(\"Type de système cristallin:\",stru.get_crystal_system())\n",
    "    # Groupe ponctuel du matériau\n",
    "    print(\"Groupe ponctuel:\",stru.get_space_group_symbol())\n",
    "    \n",
    "    \n",
    "    "
   ]
  },
  {
   "cell_type": "code",
   "execution_count": null,
   "metadata": {},
   "outputs": [],
   "source": []
  },
  {
   "cell_type": "code",
   "execution_count": null,
   "metadata": {},
   "outputs": [],
   "source": []
  }
 ],
 "metadata": {
  "kernelspec": {
   "display_name": "Python 3",
   "language": "python",
   "name": "python3"
  },
  "language_info": {
   "codemirror_mode": {
    "name": "ipython",
    "version": 3
   },
   "file_extension": ".py",
   "mimetype": "text/x-python",
   "name": "python",
   "nbconvert_exporter": "python",
   "pygments_lexer": "ipython3",
   "version": "3.6.8"
  }
 },
 "nbformat": 4,
 "nbformat_minor": 2
}
